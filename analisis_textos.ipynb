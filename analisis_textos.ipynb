{
  "nbformat": 4,
  "nbformat_minor": 0,
  "metadata": {
    "colab": {
      "provenance": []
    },
    "kernelspec": {
      "name": "python3",
      "display_name": "Python 3"
    },
    "language_info": {
      "name": "python"
    }
  },
  "cells": [
    {
      "cell_type": "code",
      "execution_count": null,
      "metadata": {
        "id": "HhOo2ZMl10RH"
      },
      "outputs": [],
      "source": [
        "import copy\n",
        "import numpy as np\n",
        "import os\n",
        "import re\n",
        "import importlib\n",
        "import sys\n",
        "import pandas as pd\n",
        "import utils as uti\n",
        "def reload():\n",
        "    importlib.reload(uti)"
      ]
    },
    {
      "cell_type": "code",
      "source": [
        "src = os.getcwd()\n",
        "text_path = os.path.join(src,'data','output')"
      ],
      "metadata": {
        "id": "vtmUj1HC3e7T"
      },
      "execution_count": null,
      "outputs": []
    },
    {
      "cell_type": "markdown",
      "source": [
        "**Preparar listados de palabras y frases a identificar después**\n",
        "\n",
        "Estos listados los diseñamos manualmente en Excel."
      ],
      "metadata": {
        "id": "2PgADrCO4xts"
      }
    },
    {
      "cell_type": "code",
      "source": [
        "df_lists = pd.read_csv('data/input/listado.csv',delimiter=';')\n",
        "df_lists.head(5)"
      ],
      "metadata": {
        "colab": {
          "base_uri": "https://localhost:8080/",
          "height": 391
        },
        "id": "HAyMx6994U7k",
        "outputId": "3bd8067a-b591-404f-ad25-4022538377e5"
      },
      "execution_count": null,
      "outputs": [
        {
          "output_type": "stream",
          "name": "stderr",
          "text": [
            "<ipython-input-10-4a0d4a6ddbc0>:1: DtypeWarning: Columns (0,1,2,3,4,5,6) have mixed types. Specify dtype option on import or set low_memory=False.\n",
            "  df_lists = pd.read_csv('data/input/listado.csv',delimiter=';')\n"
          ]
        },
        {
          "output_type": "execute_result",
          "data": {
            "text/plain": [
              "  Listado marcadores discursivos Listado Pronombres personales  \\\n",
              "0                            NaN                            yo   \n",
              "1                            NaN                            tú   \n",
              "2                            NaN                         usted   \n",
              "3                            así                            él   \n",
              "4                            NaN                          ella   \n",
              "\n",
              "  Listado conjunciones y locuciones conjuntivas  \\\n",
              "0                                             y   \n",
              "1                                             e   \n",
              "2                                            ni   \n",
              "3                                           que   \n",
              "4                                             o   \n",
              "\n",
              "  Listado palabras que NO tienen contenido Listado signos puntuacion  \\\n",
              "0                                        a                         .   \n",
              "1                                     ante                         ,   \n",
              "2                                     bajo                         ;   \n",
              "3                                     cabe                         :   \n",
              "4                                      con                         ¡   \n",
              "\n",
              "                    a                                         Unnamed: 6  \n",
              "0          a causa de                                                NaN  \n",
              "1      a condición de                                                NaN  \n",
              "2  a condición de que                            Palabras sin contenido:  \n",
              "3   a consecuencia de  preposiciones, conjunciones, marcadores y dete...  \n",
              "4      a continuación                                                NaN  "
            ],
            "text/html": [
              "\n",
              "  <div id=\"df-aefb4455-d7ba-4b98-8570-26d8d31cb9e7\">\n",
              "    <div class=\"colab-df-container\">\n",
              "      <div>\n",
              "<style scoped>\n",
              "    .dataframe tbody tr th:only-of-type {\n",
              "        vertical-align: middle;\n",
              "    }\n",
              "\n",
              "    .dataframe tbody tr th {\n",
              "        vertical-align: top;\n",
              "    }\n",
              "\n",
              "    .dataframe thead th {\n",
              "        text-align: right;\n",
              "    }\n",
              "</style>\n",
              "<table border=\"1\" class=\"dataframe\">\n",
              "  <thead>\n",
              "    <tr style=\"text-align: right;\">\n",
              "      <th></th>\n",
              "      <th>Listado marcadores discursivos</th>\n",
              "      <th>Listado Pronombres personales</th>\n",
              "      <th>Listado conjunciones y locuciones conjuntivas</th>\n",
              "      <th>Listado palabras que NO tienen contenido</th>\n",
              "      <th>Listado signos puntuacion</th>\n",
              "      <th>a</th>\n",
              "      <th>Unnamed: 6</th>\n",
              "    </tr>\n",
              "  </thead>\n",
              "  <tbody>\n",
              "    <tr>\n",
              "      <th>0</th>\n",
              "      <td>NaN</td>\n",
              "      <td>yo</td>\n",
              "      <td>y</td>\n",
              "      <td>a</td>\n",
              "      <td>.</td>\n",
              "      <td>a causa de</td>\n",
              "      <td>NaN</td>\n",
              "    </tr>\n",
              "    <tr>\n",
              "      <th>1</th>\n",
              "      <td>NaN</td>\n",
              "      <td>tú</td>\n",
              "      <td>e</td>\n",
              "      <td>ante</td>\n",
              "      <td>,</td>\n",
              "      <td>a condición de</td>\n",
              "      <td>NaN</td>\n",
              "    </tr>\n",
              "    <tr>\n",
              "      <th>2</th>\n",
              "      <td>NaN</td>\n",
              "      <td>usted</td>\n",
              "      <td>ni</td>\n",
              "      <td>bajo</td>\n",
              "      <td>;</td>\n",
              "      <td>a condición de que</td>\n",
              "      <td>Palabras sin contenido:</td>\n",
              "    </tr>\n",
              "    <tr>\n",
              "      <th>3</th>\n",
              "      <td>así</td>\n",
              "      <td>él</td>\n",
              "      <td>que</td>\n",
              "      <td>cabe</td>\n",
              "      <td>:</td>\n",
              "      <td>a consecuencia de</td>\n",
              "      <td>preposiciones, conjunciones, marcadores y dete...</td>\n",
              "    </tr>\n",
              "    <tr>\n",
              "      <th>4</th>\n",
              "      <td>NaN</td>\n",
              "      <td>ella</td>\n",
              "      <td>o</td>\n",
              "      <td>con</td>\n",
              "      <td>¡</td>\n",
              "      <td>a continuación</td>\n",
              "      <td>NaN</td>\n",
              "    </tr>\n",
              "  </tbody>\n",
              "</table>\n",
              "</div>\n",
              "      <button class=\"colab-df-convert\" onclick=\"convertToInteractive('df-aefb4455-d7ba-4b98-8570-26d8d31cb9e7')\"\n",
              "              title=\"Convert this dataframe to an interactive table.\"\n",
              "              style=\"display:none;\">\n",
              "        \n",
              "  <svg xmlns=\"http://www.w3.org/2000/svg\" height=\"24px\"viewBox=\"0 0 24 24\"\n",
              "       width=\"24px\">\n",
              "    <path d=\"M0 0h24v24H0V0z\" fill=\"none\"/>\n",
              "    <path d=\"M18.56 5.44l.94 2.06.94-2.06 2.06-.94-2.06-.94-.94-2.06-.94 2.06-2.06.94zm-11 1L8.5 8.5l.94-2.06 2.06-.94-2.06-.94L8.5 2.5l-.94 2.06-2.06.94zm10 10l.94 2.06.94-2.06 2.06-.94-2.06-.94-.94-2.06-.94 2.06-2.06.94z\"/><path d=\"M17.41 7.96l-1.37-1.37c-.4-.4-.92-.59-1.43-.59-.52 0-1.04.2-1.43.59L10.3 9.45l-7.72 7.72c-.78.78-.78 2.05 0 2.83L4 21.41c.39.39.9.59 1.41.59.51 0 1.02-.2 1.41-.59l7.78-7.78 2.81-2.81c.8-.78.8-2.07 0-2.86zM5.41 20L4 18.59l7.72-7.72 1.47 1.35L5.41 20z\"/>\n",
              "  </svg>\n",
              "      </button>\n",
              "      \n",
              "  <style>\n",
              "    .colab-df-container {\n",
              "      display:flex;\n",
              "      flex-wrap:wrap;\n",
              "      gap: 12px;\n",
              "    }\n",
              "\n",
              "    .colab-df-convert {\n",
              "      background-color: #E8F0FE;\n",
              "      border: none;\n",
              "      border-radius: 50%;\n",
              "      cursor: pointer;\n",
              "      display: none;\n",
              "      fill: #1967D2;\n",
              "      height: 32px;\n",
              "      padding: 0 0 0 0;\n",
              "      width: 32px;\n",
              "    }\n",
              "\n",
              "    .colab-df-convert:hover {\n",
              "      background-color: #E2EBFA;\n",
              "      box-shadow: 0px 1px 2px rgba(60, 64, 67, 0.3), 0px 1px 3px 1px rgba(60, 64, 67, 0.15);\n",
              "      fill: #174EA6;\n",
              "    }\n",
              "\n",
              "    [theme=dark] .colab-df-convert {\n",
              "      background-color: #3B4455;\n",
              "      fill: #D2E3FC;\n",
              "    }\n",
              "\n",
              "    [theme=dark] .colab-df-convert:hover {\n",
              "      background-color: #434B5C;\n",
              "      box-shadow: 0px 1px 3px 1px rgba(0, 0, 0, 0.15);\n",
              "      filter: drop-shadow(0px 1px 2px rgba(0, 0, 0, 0.3));\n",
              "      fill: #FFFFFF;\n",
              "    }\n",
              "  </style>\n",
              "\n",
              "      <script>\n",
              "        const buttonEl =\n",
              "          document.querySelector('#df-aefb4455-d7ba-4b98-8570-26d8d31cb9e7 button.colab-df-convert');\n",
              "        buttonEl.style.display =\n",
              "          google.colab.kernel.accessAllowed ? 'block' : 'none';\n",
              "\n",
              "        async function convertToInteractive(key) {\n",
              "          const element = document.querySelector('#df-aefb4455-d7ba-4b98-8570-26d8d31cb9e7');\n",
              "          const dataTable =\n",
              "            await google.colab.kernel.invokeFunction('convertToInteractive',\n",
              "                                                     [key], {});\n",
              "          if (!dataTable) return;\n",
              "\n",
              "          const docLinkHtml = 'Like what you see? Visit the ' +\n",
              "            '<a target=\"_blank\" href=https://colab.research.google.com/notebooks/data_table.ipynb>data table notebook</a>'\n",
              "            + ' to learn more about interactive tables.';\n",
              "          element.innerHTML = '';\n",
              "          dataTable['output_type'] = 'display_data';\n",
              "          await google.colab.output.renderOutput(dataTable, element);\n",
              "          const docLink = document.createElement('div');\n",
              "          docLink.innerHTML = docLinkHtml;\n",
              "          element.appendChild(docLink);\n",
              "        }\n",
              "      </script>\n",
              "    </div>\n",
              "  </div>\n",
              "  "
            ]
          },
          "metadata": {},
          "execution_count": 10
        }
      ]
    },
    {
      "cell_type": "code",
      "source": [
        "ls_marcadores = uti.prepare_list(df_lists,'Listado marcadores discursivos')\n",
        "ls_conjunciones = uti.prepare_list(df_lists,'Listado conjunciones y locuciones conjuntivas')\n",
        "ls_pronombres = uti.prepare_list(df_lists,'Listado Pronombres personales')\n",
        "ls_puntuacion = uti.prepare_list(df_lists,'Listado signos puntuacion')\n",
        "ls_content_words = uti.prepare_list(df_lists,'Listado palabras que NO tienen contenido')"
      ],
      "metadata": {
        "id": "85mc9BNk3swC"
      },
      "execution_count": null,
      "outputs": []
    },
    {
      "cell_type": "markdown",
      "source": [
        "**Preparar diccionario de los paths a los textos**"
      ],
      "metadata": {
        "id": "VOB_ZJh147k8"
      }
    },
    {
      "cell_type": "code",
      "source": [
        "texts = {i[:-4]:os.path.join('data/input',i) for i in os.listdir('data/input') if 'TO' not in i and i.endswith('.txt')}\n",
        "texts"
      ],
      "metadata": {
        "colab": {
          "base_uri": "https://localhost:8080/"
        },
        "id": "jGBtfioT4rAB",
        "outputId": "f3ffb843-c498-48d7-88a7-4f67f956b6a6"
      },
      "execution_count": null,
      "outputs": [
        {
          "output_type": "execute_result",
          "data": {
            "text/plain": [
              "{'TH4': 'data/input/TH4.txt',\n",
              " 'PE4': 'data/input/PE4.txt',\n",
              " 'TH2': 'data/input/TH2.txt',\n",
              " 'PE1': 'data/input/PE1.txt',\n",
              " 'PE3': 'data/input/PE3.txt',\n",
              " 'PE2': 'data/input/PE2.txt',\n",
              " 'TH5': 'data/input/TH5.txt',\n",
              " 'TH1': 'data/input/TH1.txt',\n",
              " 'PE5': 'data/input/PE5.txt',\n",
              " 'TH6': 'data/input/TH6.txt',\n",
              " 'TH3': 'data/input/TH3.txt',\n",
              " 'PE6': 'data/input/PE6.txt'}"
            ]
          },
          "metadata": {},
          "execution_count": 11
        }
      ]
    },
    {
      "cell_type": "code",
      "source": [
        "translation = {'unique_words':             'Numero total de palabras unicas',\n",
        " 'total_words':                            'Numero total de palabras',\n",
        " 'unique_ratio':                           'Porcentaje de palabras unicas',\n",
        " 'content_word_ratio_per_phrase_average':  'Porcentage de palabras con contenido',\n",
        " 'total_average_characters_per_word':      'Media de caracteres por palabra',\n",
        " 'mean_number_phrases':                    'Media de palabras por frase',\n",
        " 'number_phrases':                         'Numero de frases',\n",
        " 'len_text':                               'Longitud total del texto (caracteres)',\n",
        "'mean_pronombres':                         'Media pronombres',\n",
        "'pctg_pronombres':                         'Porcentaje pronombres',\n",
        "'mean_content_word':                         'Media palabras con contenido',\n",
        "'mean_conjunciones':                         'Media conjunciones',\n",
        "'pctg_conjunciones':                         'Porcentaje conjunciones',\n",
        "'mean_marcadores_discursivos':                         'Media marcadores discursivos',\n",
        "'pctg_marcadores_discursivos':                         'Porcentaje marcadores discursivos',\n",
        "'mean_punctuations':                         'Media signos de puntuacion',\n",
        "'pctg_punctuations':                         'Porcentaje signos de puntuacion',\n",
        "}"
      ],
      "metadata": {
        "id": "TeaPHhKc4adE"
      },
      "execution_count": null,
      "outputs": []
    },
    {
      "cell_type": "markdown",
      "source": [
        "**Declaramos la función principal**\n",
        "\n",
        "Se ocupa de llamar a las diferentes funciones de cada apartado y da como resultado un diccionario con los resultados.\n",
        "\n",
        "Puede autogenerar unos excels con los resultados de cada texto"
      ],
      "metadata": {
        "id": "-n4Z8KVw51uH"
      }
    },
    {
      "cell_type": "code",
      "source": [
        "def evaluate_text(name: str, path, save: bool=False) -> dict:\n",
        "    raw_t, clean_t = uti.read(path)\n",
        "    punctuations = uti.find_punctuation_in_list(raw_t,ls_puntuacion)\n",
        "\n",
        "    l = uti.simplificacion_1_1(clean_t,ls_content_words)\n",
        "    (unique_words, total_words, unique_ratio, number_non_content_words, number_word_in_phrase,\n",
        "     non_content_word_ratio_per_phrase, non_content_word_ratio_per_phrase_average, average_characters_per_word,\n",
        "     total_average_characters_per_word) = l\n",
        "\n",
        "    number_word_in_phrase, mean_number_phrases, number_phrases = uti.simplificacion_1_2(clean_t)\n",
        "\n",
        "    number_marcadores_discursivos = uti.explicitacion_2_1(clean_t, ls_marcadores)\n",
        "\n",
        "    number_conjunciones = uti.explicitacion_2_2(clean_t, ls_conjunciones)\n",
        "\n",
        "    number_characters_per_phrase, len_text = uti.explicitacion_2_3(clean_t)\n",
        "\n",
        "    number_pronombres = uti.explicitacion_2_4(clean_t, ls_pronombres)\n",
        "\n",
        "    dic ={'punctuations':punctuations,\n",
        "        'unique_words' : unique_words,\n",
        "    'total_words' : total_words,\n",
        "    'unique_ratio' : unique_ratio,\n",
        "    'number_non_content_words' : number_non_content_words,\n",
        "    'number_word_in_phrase' : number_word_in_phrase,\n",
        "    'non_content_word_ratio_per_phrase' : non_content_word_ratio_per_phrase,\n",
        "    'non_content_word_ratio_per_phrase_average':non_content_word_ratio_per_phrase_average,\n",
        "    'average_characters_per_word':average_characters_per_word,\n",
        "    'total_average_characters_per_word':total_average_characters_per_word,\n",
        "    'number_word_in_phrase' : number_word_in_phrase,\n",
        "    'mean_number_phrases' : mean_number_phrases,\n",
        "    'number_phrases' : number_phrases,\n",
        "    'number_marcadores_discursivos' : number_marcadores_discursivos,\n",
        "    'number_conjunciones' : number_conjunciones,\n",
        "    'number_characters_per_phrase' : number_characters_per_phrase,\n",
        "    'len_text' : len_text,\n",
        "    'number_pronombres' : number_pronombres,}\n",
        "    dic = uti.final_statistics(dic)\n",
        "    dic_stats = {key:value for key,value in dic.items() if not isinstance(value,(list,np.ndarray))}\n",
        "\n",
        "    output_path = 'data/output'\n",
        "    stats_path = os.path.join(output_path, f'{name}_stats.xlsx')\n",
        "    phrase_path = os.path.join(output_path, f'{name}.xlsx')\n",
        "\n",
        "    if save:\n",
        "        pd.DataFrame.from_dict(dic_stats,orient='index').rename(index=translation,columns={0:name}).to_excel(stats_path)\n",
        "\n",
        "    df = pd.DataFrame(clean_t,columns=['text'])\n",
        "    for key,value in dic.items():\n",
        "        if isinstance(value,(list, np.ndarray)):\n",
        "            df[key]=value\n",
        "    if save:\n",
        "        df.to_excel(phrase_path)\n",
        "    return dic"
      ],
      "metadata": {
        "id": "TWmBNsXu4haQ"
      },
      "execution_count": null,
      "outputs": []
    },
    {
      "cell_type": "markdown",
      "source": [
        "**Llamamos a la función principal en bucle para cada texto**"
      ],
      "metadata": {
        "id": "GYtqbACn6T2x"
      }
    },
    {
      "cell_type": "code",
      "source": [
        "for name, path in texts.items():\n",
        "    dic_iter = evaluate_text(name, path, save=True)"
      ],
      "metadata": {
        "id": "KNIKFBQo5uzQ"
      },
      "execution_count": null,
      "outputs": []
    }
  ]
}